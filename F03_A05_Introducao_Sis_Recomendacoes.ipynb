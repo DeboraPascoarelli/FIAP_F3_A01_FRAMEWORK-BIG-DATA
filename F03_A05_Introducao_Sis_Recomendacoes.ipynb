{
 "cells": [
  {
   "cell_type": "markdown",
   "metadata": {},
   "source": [
    "# Introdução a Sistemas de Recomendação"
   ]
  },
  {
   "cell_type": "markdown",
   "metadata": {},
   "source": [
    "Notes: Conhecer o histórico de compra de um cliente, por exemplo.\n",
    "Insights: Provavelmente clientes que possuem o mesmo perfil tem a probabilidade de comprar também. \n",
    "\n",
    "A empresa pode se parametrizar por estes dados para oferecer produtos aos clientes de acordo com o seu perfil"
   ]
  },
  {
   "cell_type": "markdown",
   "metadata": {},
   "source": [
    "## Bibliotecas utilizadas"
   ]
  },
  {
   "cell_type": "code",
   "execution_count": 1,
   "metadata": {},
   "outputs": [],
   "source": [
    "import scipy\n",
    "from scipy import stats\n",
    "import numpy as np\n"
   ]
  },
  {
   "cell_type": "code",
   "execution_count": 2,
   "metadata": {},
   "outputs": [
    {
     "name": "stdout",
     "output_type": "stream",
     "text": [
      "[[ 8  0  3  4  6]\n",
      " [ 5  6  1  8  9]\n",
      " [ 8  0  0  5 10]]\n"
     ]
    }
   ],
   "source": [
    "# Criação dos dados que vamos utilizar\n",
    "\n",
    "matrix = np.array([[8,0,3,4,6],[5,6,1,8,9],[8,0,0,5,10]]) # base de dados\n",
    "novoUser =         [8,0,2,3,0] # base de novos usuário / nota dada pelo usuário / 0 = não assistiu\n",
    "nao_assistidos =   [0,1,0,0,1] # base de filmes não assistido /nota dada pelo usuário\n",
    "print(matrix)\n",
    "nomeFilmes =       ['Round 6', 'A Invocação do Mal','9 Desconhecidos','You','La Casa de Papel']\n",
    "\n",
    "# vamos tentar saber se há probabilidade dos novos usuários assistirem os filmes que estão na nossa base de dados, baseadas nas notas já atribuídas da BD\n"
   ]
  },
  {
   "cell_type": "markdown",
   "metadata": {},
   "source": [
    "## Criação Vetor de Similaridade"
   ]
  },
  {
   "cell_type": "code",
   "execution_count": 3,
   "metadata": {},
   "outputs": [
    {
     "name": "stdout",
     "output_type": "stream",
     "text": [
      "8\n",
      "5\n",
      "[5 6 1 8 9]\n",
      "user: 0\n",
      "[8, 3, 4] [8, 2, 3]\n",
      "user: 1\n",
      "[5, 1, 8] [8, 2, 3]\n",
      "user: 2\n",
      "[8, 0, 5] [8, 2, 3]\n",
      "\n",
      "[0.9994237971287663, 0.23621543814299703, 0.8723686098443353]\n"
     ]
    }
   ],
   "source": [
    "#criando um vetor com 3 posições e preencher com zero (vamos colocar os valores da similaridade entre o novoUser e cada outro usuário da matriz )\n",
    "\n",
    "# Aqui, estamos criando uma lista chamada similarity com 3 posições, e cada posição é inicialmente preenchida com o número 0. Essa lista vai guardar os resultados da similaridade entre o novo usuário e outros usuários.\n",
    "similarity =[0] * 3\n",
    "\n",
    "\n",
    "print(matrix[0][0])\n",
    "print(matrix[1][0])\n",
    "print(matrix[1,:])\n",
    "#para cada usuário no sistema...\n",
    "for i in range(0,3):\n",
    "  #vamos pegar os dados desse usuário\n",
    "  temp = matrix[i,:]\n",
    "\n",
    "  #MAS QUEREMOS APENAS COMPARAR OS DADOS QUE O NOVO USER ASSISTIU (OU SEJA... QUE NOVOUSER != 0)\n",
    "  tempUser= [t for n,t in zip(novoUser,temp) if n != 0]\n",
    "  tempNovoUser= [n for n in novoUser if n != 0]\n",
    "\n",
    "  #para verificar o processo\n",
    "  print('user:',i)\n",
    "  print(tempUser, tempNovoUser)\n",
    "\n",
    "  #vamos usar a biblioteca scipy.stats que ja calcula o pearson!!! (coeficiente de correlação de Pearson)\n",
    "  similarity[i] = scipy.stats.pearsonr(tempUser,tempNovoUser)[0] #a função retorna dois valores e o primeiro é o coefieciente de pearson\n",
    "print()\n",
    "\n",
    "print(similarity)\n",
    "\n",
    "# A ideia é ver o quão parecido o novo usuário é com outros usuários baseando-se nas preferências compartilhadas.\n"
   ]
  },
  {
   "cell_type": "markdown",
   "metadata": {},
   "source": [
    "## Explicação do Resultado"
   ]
  },
  {
   "cell_type": "markdown",
   "metadata": {},
   "source": [
    "*1.Dados da Matriz e Impressão:*\n",
    "\n",
    "8\n",
    "5\n",
    "[5 6 1 8 9]\n",
    "\n",
    "Esses valores indicam parte da matriz e os dados que estão sendo comparados. Aqui está o que cada linha representa:\n",
    "\n",
    "8 e 5 são valores individuais da matriz (provavelmente dos índices [0][0] e [1][0]).\n",
    "[5 6 1 8 9] é uma linha da matriz (provavelmente a linha 1).\n",
    "\n",
    "*2.Comparação por Usuário:*\n",
    "\n",
    "print('user:', i)\n",
    "print(tempUser, tempNovoUser)\n",
    "\n",
    "Para cada usuário, a comparação é feita entre os dados relevantes (tempUser) e os dados do novo usuário (tempNovoUser):\n",
    "\n",
    "Usuário 0:\n",
    "\n",
    "Dados do Usuário 0 (tempUser): [8, 3, 4]\n",
    "Dados do Novo Usuário (tempNovoUser): [8, 2, 3]\n",
    "A similaridade calculada é 0.9994237971287663.\n",
    "Usuário 1:\n",
    "\n",
    "Dados do Usuário 1 (tempUser): [5, 1, 8]\n",
    "Dados do Novo Usuário (tempNovoUser): [8, 2, 3]\n",
    "A similaridade calculada é 0.23621543814299703.\n",
    "Usuário 2:\n",
    "\n",
    "Dados do Usuário 2 (tempUser): [8, 0, 5]\n",
    "Dados do Novo Usuário (tempNovoUser): [8, 2, 3]\n",
    "A similaridade calculada é 0.8723686098443353.\n",
    "\n",
    "*3.Similaridade Calculada:*\n",
    "\n",
    "[0.9994237971287663, 0.23621543814299703, 0.8723686098443353]\n",
    "\n",
    "Este vetor contém os coeficientes de correlação de Pearson calculados para cada usuário comparado com o novo usuário. Os valores correspondem às similaridades:\n",
    "\n",
    "Usuário 0: Similaridade de aproximadamente 0.999 (muito alta, indicando que as preferências são bastante semelhantes).\n",
    "Usuário 1: Similaridade de aproximadamente 0.236 (baixa, indicando que as preferências são pouco semelhantes).\n",
    "Usuário 2: Similaridade de aproximadamente 0.872 (alta, indicando que as preferências são bastante semelhantes).\n",
    "\n",
    "--*Resumo das Correspondências*--\n",
    "\n",
    "Usuário 0 tem uma similaridade muito alta com o novo usuário (próxima de 1), indicando que suas preferências são quase iguais.\n",
    "Usuário 1 tem uma similaridade baixa com o novo usuário (próxima de 0), indicando pouca semelhança nas preferências.\n",
    "Usuário 2 tem uma similaridade alta com o novo usuário, mas não tão alta quanto o Usuário 0.\n",
    "Esses resultados ajudam a determinar quais usuários são mais semelhantes ao novo usuário com base em suas preferências.\n"
   ]
  },
  {
   "cell_type": "code",
   "execution_count": 4,
   "metadata": {},
   "outputs": [
    {
     "name": "stdout",
     "output_type": "stream",
     "text": [
      "nota_peso[ 0 ][ 0 ] = , nao_assistidos[ 0 ], * ,matrix[ 0 ][ 0 ], * similarity[ 0 ]\n",
      "nota_peso[ 0 ][ 0 ] =  0  *  8  *  0.9994237971287663\n",
      "nota_peso[ 0 ][ 1 ] = , nao_assistidos[ 1 ], * ,matrix[ 0 ][ 1 ], * similarity[ 0 ]\n",
      "nota_peso[ 0 ][ 1 ] =  1  *  0  *  0.9994237971287663\n",
      "nota_peso[ 0 ][ 2 ] = , nao_assistidos[ 2 ], * ,matrix[ 0 ][ 2 ], * similarity[ 0 ]\n",
      "nota_peso[ 0 ][ 2 ] =  0  *  3  *  0.9994237971287663\n",
      "nota_peso[ 0 ][ 3 ] = , nao_assistidos[ 3 ], * ,matrix[ 0 ][ 3 ], * similarity[ 0 ]\n",
      "nota_peso[ 0 ][ 3 ] =  0  *  4  *  0.9994237971287663\n",
      "nota_peso[ 0 ][ 4 ] = , nao_assistidos[ 4 ], * ,matrix[ 0 ][ 4 ], * similarity[ 0 ]\n",
      "nota_peso[ 0 ][ 4 ] =  1  *  6  *  0.9994237971287663\n",
      "nota_peso[ 1 ][ 0 ] = , nao_assistidos[ 0 ], * ,matrix[ 1 ][ 0 ], * similarity[ 1 ]\n",
      "nota_peso[ 1 ][ 0 ] =  0  *  5  *  0.23621543814299703\n",
      "nota_peso[ 1 ][ 1 ] = , nao_assistidos[ 1 ], * ,matrix[ 1 ][ 1 ], * similarity[ 1 ]\n",
      "nota_peso[ 1 ][ 1 ] =  1  *  6  *  0.23621543814299703\n",
      "nota_peso[ 1 ][ 2 ] = , nao_assistidos[ 2 ], * ,matrix[ 1 ][ 2 ], * similarity[ 1 ]\n",
      "nota_peso[ 1 ][ 2 ] =  0  *  1  *  0.23621543814299703\n",
      "nota_peso[ 1 ][ 3 ] = , nao_assistidos[ 3 ], * ,matrix[ 1 ][ 3 ], * similarity[ 1 ]\n",
      "nota_peso[ 1 ][ 3 ] =  0  *  8  *  0.23621543814299703\n",
      "nota_peso[ 1 ][ 4 ] = , nao_assistidos[ 4 ], * ,matrix[ 1 ][ 4 ], * similarity[ 1 ]\n",
      "nota_peso[ 1 ][ 4 ] =  1  *  9  *  0.23621543814299703\n",
      "nota_peso[ 2 ][ 0 ] = , nao_assistidos[ 0 ], * ,matrix[ 2 ][ 0 ], * similarity[ 2 ]\n",
      "nota_peso[ 2 ][ 0 ] =  0  *  8  *  0.8723686098443353\n",
      "nota_peso[ 2 ][ 1 ] = , nao_assistidos[ 1 ], * ,matrix[ 2 ][ 1 ], * similarity[ 2 ]\n",
      "nota_peso[ 2 ][ 1 ] =  1  *  0  *  0.8723686098443353\n",
      "nota_peso[ 2 ][ 2 ] = , nao_assistidos[ 2 ], * ,matrix[ 2 ][ 2 ], * similarity[ 2 ]\n",
      "nota_peso[ 2 ][ 2 ] =  0  *  0  *  0.8723686098443353\n",
      "nota_peso[ 2 ][ 3 ] = , nao_assistidos[ 3 ], * ,matrix[ 2 ][ 3 ], * similarity[ 2 ]\n",
      "nota_peso[ 2 ][ 3 ] =  0  *  5  *  0.8723686098443353\n",
      "nota_peso[ 2 ][ 4 ] = , nao_assistidos[ 4 ], * ,matrix[ 2 ][ 4 ], * similarity[ 2 ]\n",
      "nota_peso[ 2 ][ 4 ] =  1  *  10  *  0.8723686098443353\n",
      "[[0.         0.         0.         0.         5.99654278]\n",
      " [0.         1.41729263 0.         0.         2.12593894]\n",
      " [0.         0.         0.         0.         8.7236861 ]]\n"
     ]
    }
   ],
   "source": [
    "nota_peso = np.zeros((3,5))\n",
    "\n",
    "for nUser in range(3):\n",
    "  for nFilme in range(5):\n",
    "    print('nota_peso[',nUser, '][',nFilme, '] = , nao_assistidos[',nFilme, '], * ,matrix[',nUser,'][',nFilme, '], * similarity[',nUser,']')\n",
    "    print('nota_peso[',nUser, '][',nFilme, '] = ', nao_assistidos[nFilme], ' * ' ,matrix[nUser][nFilme], ' * ', similarity[nUser])\n",
    "    nota_peso[nUser][nFilme] = nao_assistidos[nFilme] * matrix[nUser][nFilme] * similarity[nUser]\n",
    "\n",
    "print(nota_peso)\n"
   ]
  },
  {
   "cell_type": "code",
   "execution_count": 5,
   "metadata": {},
   "outputs": [
    {
     "name": "stdout",
     "output_type": "stream",
     "text": [
      "[ 0.          1.41729263  0.          0.         16.84616782]\n"
     ]
    }
   ],
   "source": [
    "#  Notas acumuladas\n",
    "\n",
    "notas_acumuladas = np.sum(nota_peso.T, axis=1)\n",
    "print(notas_acumuladas)\n"
   ]
  },
  {
   "cell_type": "code",
   "execution_count": 7,
   "metadata": {},
   "outputs": [
    {
     "name": "stdout",
     "output_type": "stream",
     "text": [
      "[[0. 0. 0. 0. 1.]\n",
      " [0. 1. 0. 0. 1.]\n",
      " [0. 0. 0. 0. 1.]]\n",
      "[[0.         0.         0.         0.         0.9994238 ]\n",
      " [0.         0.23621544 0.         0.         0.23621544]\n",
      " [0.         0.         0.         0.         0.87236861]]\n",
      "[0.         0.23621544 0.         0.         2.10800785]\n"
     ]
    }
   ],
   "source": [
    "temp_peso = nota_peso\n",
    "temp_peso[nota_peso > 0] = 1\n",
    "print(temp_peso)\n",
    "\n",
    "# criando uma nova matriz / essa matriz tem 3 linhas e 5 colunas com todos os valores = 0\n",
    "temp_similaridade = np.zeros((3,5))\n",
    "for nUser in range(3): # preenchendo a matriz\n",
    "    for nFilme in range(5):\n",
    "        temp_similaridade[nUser][nFilme] = temp_peso[nUser][nFilme] * similarity[nUser]\n",
    "\n",
    "# resultado da matriz acima        \n",
    "print(temp_similaridade)\n",
    "\n",
    "# somando os valores \n",
    "similaridade_acumulada = np.sum(temp_similaridade.T,axis=1) #matriz transposta para poder somar / troca as linhas pelas colunas\n",
    "print(similaridade_acumulada)\n"
   ]
  },
  {
   "cell_type": "markdown",
   "metadata": {},
   "source": [
    "## Predição dos Dados"
   ]
  },
  {
   "cell_type": "markdown",
   "metadata": {},
   "source": [
    "Qual o tipo de similaridade que os novos usário tem referente aos usuários já existentes"
   ]
  },
  {
   "cell_type": "code",
   "execution_count": 8,
   "metadata": {},
   "outputs": [
    {
     "name": "stdout",
     "output_type": "stream",
     "text": [
      "[0, 6.0, 0, 0, 7.991510972567143]\n"
     ]
    }
   ],
   "source": [
    "nota_final = [0] * 5\n",
    "# agora a normalização para cada filme com nota acumulada, eu normalizo pela soma dos pesos (similaridade)\n",
    "for nFilme in range(5):\n",
    "    if(similaridade_acumulada[nFilme] > 0):\n",
    "        nota_final[nFilme] = notas_acumuladas[nFilme] / similaridade_acumulada[nFilme]\n",
    "    else:\n",
    "        nota_final[nFilme] = 0\n",
    "        \n",
    "print(nota_final)\n"
   ]
  },
  {
   "cell_type": "markdown",
   "metadata": {},
   "source": [
    "## Ordenando as notas"
   ]
  },
  {
   "cell_type": "code",
   "execution_count": 9,
   "metadata": {},
   "outputs": [
    {
     "name": "stdout",
     "output_type": "stream",
     "text": [
      "[4, 1]\n",
      "La Casa de Papel nota:  7.991510972567143\n",
      "A Invocação do Mal nota:  6.0\n"
     ]
    }
   ],
   "source": [
    "nAssistidos = sum(nao_assistidos)\n",
    "\n",
    "notasOrdenadasIndex = sorted(range(len(nota_final)),key=nota_final.__getitem__)[::-1][0:nAssistidos]\n",
    "print(notasOrdenadasIndex)\n",
    "# nomeFilmes = ['Round 6', 'A Invocação do Mal','9 Desconhecidos','You','La Casa de Papel']\n",
    "for i in notasOrdenadasIndex:\n",
    "  print(nomeFilmes[i], 'nota: ', nota_final[i])\n",
    "  \n",
    "  # [4,1] = A quarta posição é maior que a posição 1 / lembrando que no python começa tudo do zero\n"
   ]
  }
 ],
 "metadata": {
  "kernelspec": {
   "display_name": "Python 3",
   "language": "python",
   "name": "python3"
  },
  "language_info": {
   "codemirror_mode": {
    "name": "ipython",
    "version": 3
   },
   "file_extension": ".py",
   "mimetype": "text/x-python",
   "name": "python",
   "nbconvert_exporter": "python",
   "pygments_lexer": "ipython3",
   "version": "3.11.9"
  }
 },
 "nbformat": 4,
 "nbformat_minor": 2
}
