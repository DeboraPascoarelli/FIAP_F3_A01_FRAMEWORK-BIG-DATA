{
 "cells": [
  {
   "cell_type": "markdown",
   "metadata": {},
   "source": [
    "# Operações entre DataFrames e Armazenamento"
   ]
  },
  {
   "cell_type": "markdown",
   "metadata": {},
   "source": [
    "## Instalação do PySpark e Instâncias"
   ]
  },
  {
   "cell_type": "code",
   "execution_count": 1,
   "metadata": {},
   "outputs": [],
   "source": [
    "from pyspark import SparkContext\n",
    "from pyspark.sql import SparkSession\n"
   ]
  },
  {
   "cell_type": "code",
   "execution_count": 2,
   "metadata": {},
   "outputs": [],
   "source": [
    "sc = SparkContext.getOrCreate()\n"
   ]
  },
  {
   "cell_type": "code",
   "execution_count": 4,
   "metadata": {},
   "outputs": [],
   "source": [
    "spark = SparkSession.builder.appName('PySpark Dataframe').getOrCreate()\n"
   ]
  },
  {
   "cell_type": "markdown",
   "metadata": {},
   "source": [
    "# Transformation\n",
    "\n",
    "Operações específicas de transformação de Dados"
   ]
  },
  {
   "cell_type": "markdown",
   "metadata": {},
   "source": [
    "## map()"
   ]
  },
  {
   "cell_type": "markdown",
   "metadata": {},
   "source": [
    "O que é um RDD?\n",
    "Antes de começar, é importante saber o que é um RDD. RDD significa \"Resilient Distributed Dataset\". Em palavras mais simples, é como uma grande lista de coisas (dados) que está espalhada por vários computadores. O Spark usa RDDs para guardar e processar dados de forma rápida.\n",
    "\n",
    "Vamos entender o código passo a passo:\n",
    "Lista de números (data = [1, 2, 3, 4, 5]):\n",
    "\n",
    "Imagine que você tem uma caixa com 5 bolinhas. Cada bolinha tem um número de 1 a 5. Esta é a sua lista de números chamada data.\n",
    "Criando o RDD (myRDD = sc.parallelize(data)):\n",
    "\n",
    "Agora, você vai espalhar essas bolinhas por várias caixas (que podem estar em diferentes lugares). Isso é o que o sc.parallelize(data) faz. Ele pega a sua lista e transforma em um RDD (uma grande lista que o Spark pode usar).\n",
    "myRDD é o nome que você deu para essa lista espalhada.\n",
    "Multiplicando cada número por 2 (newRDD = myRDD.map(lambda x: x * 2)):\n",
    "\n",
    "Aqui, você vai multiplicar o número de cada bolinha por 2.\n",
    "O map é como um mágico que faz alguma coisa com cada bolinha. Neste caso, o mágico está pegando cada bolinha, olhando o número que ela tem e criando uma nova bolinha com o número dobrado.\n",
    "Então, se você tinha a bolinha 1, ela vira 2; a bolinha 2 vira 4; e assim por diante.\n",
    "newRDD é o nome da nova lista de bolinhas que tem os números dobrados.\n",
    "Reunindo todas as bolinhas (print(newRDD.collect())):\n",
    "\n",
    "Finalmente, você quer ver todas as novas bolinhas juntas.\n",
    "O collect() pega todas as bolinhas que foram espalhadas e junta em uma lista que você pode ver.\n",
    "print(newRDD.collect()) mostra essa nova lista na tela.\n",
    "O que acontece no final?\n",
    "No final, o código pega a lista [1, 2, 3, 4, 5], dobra cada número, e te mostra a nova lista [2, 4, 6, 8, 10].\n",
    "\n",
    "\n",
    "\n",
    "Pense que você tem uma caixa com 5 bolinhas numeradas de 1 a 5. Você espalha essas bolinhas em várias caixas e depois dá um \"poder mágico\" para cada uma, fazendo com que o número de cada bolinha seja dobrado. No final, você junta todas as bolinhas e olha para os novos números: 2, 4, 6, 8, e 10!"
   ]
  },
  {
   "cell_type": "code",
   "execution_count": 5,
   "metadata": {},
   "outputs": [
    {
     "name": "stdout",
     "output_type": "stream",
     "text": [
      "[2, 4, 6, 8, 10]\n"
     ]
    }
   ],
   "source": [
    "# Exemplo:\n",
    "\n",
    "data = [1,2,3,4,5]\n",
    "myRDD = sc.parallelize(data)\n",
    "newRDD = myRDD.map(lambda x: x*2)\n",
    "print(newRDD.collect())\n"
   ]
  },
  {
   "cell_type": "markdown",
   "metadata": {},
   "source": [
    "## filter()"
   ]
  },
  {
   "cell_type": "markdown",
   "metadata": {},
   "source": [
    "Se os números forem divisíveis por 2 e o resto for igual a zero.\n",
    "\n",
    "Exemplo: \n",
    "\n",
    "Filtrando os números pares (newRDD = myRDD.filter(lambda x: x % 2 == 0)):\n",
    "\n",
    "Aqui vem a parte legal! Você vai olhar para cada bolinha e ver se o número nela é par.\n",
    "O filter é como um filtro mágico que só deixa passar as bolinhas com números pares.\n",
    "O que o lambda x: x % 2 == 0 faz é simples: ele olha o número de cada bolinha e verifica se, quando você divide esse número por 2, o resto é zero. Isso significa que o número é par.\n",
    "Se for par, a bolinha passa pelo filtro e vai para a nova lista (newRDD). Se não for, ela fica de fora."
   ]
  },
  {
   "cell_type": "code",
   "execution_count": 7,
   "metadata": {},
   "outputs": [
    {
     "name": "stdout",
     "output_type": "stream",
     "text": [
      "[2, 4, 6, 8, 10]\n"
     ]
    }
   ],
   "source": [
    "data = [1,2,3,4,5,6,7,8,9,10]\n",
    "myRDD = sc.parallelize(data)\n",
    "newRDD = myRDD.filter(lambda x: x%2 == 0)\n",
    "print(newRDD.collect())\n"
   ]
  },
  {
   "cell_type": "markdown",
   "metadata": {},
   "source": [
    "## distinct()"
   ]
  },
  {
   "cell_type": "code",
   "execution_count": 8,
   "metadata": {},
   "outputs": [
    {
     "name": "stdout",
     "output_type": "stream",
     "text": [
      "[1, 2, 3]\n"
     ]
    }
   ],
   "source": [
    "data = [1,1,1,2,2,2,3,3,3,3]\n",
    "myRDD = sc.parallelize(data)\n",
    "newRDD = myRDD.distinct()\n",
    "print(newRDD.collect())\n"
   ]
  },
  {
   "cell_type": "code",
   "execution_count": 10,
   "metadata": {},
   "outputs": [
    {
     "name": "stdout",
     "output_type": "stream",
     "text": [
      "3\n"
     ]
    }
   ],
   "source": [
    "#  Se eu mudar para 'count' no lugar de 'collect' trará o resultado da quantidade de itens distintos\n",
    "\n",
    "data = [1,1,1,2,2,2,3,3,3,3]\n",
    "myRDD = sc.parallelize(data)\n",
    "newRDD = myRDD.distinct()\n",
    "print(newRDD.count())\n"
   ]
  },
  {
   "cell_type": "markdown",
   "metadata": {},
   "source": [
    "## groupByKey()"
   ]
  },
  {
   "cell_type": "code",
   "execution_count": 12,
   "metadata": {},
   "outputs": [
    {
     "data": {
      "text/plain": [
       "[('a', [1, 2, 3]), ('b', [1])]"
      ]
     },
     "execution_count": 12,
     "metadata": {},
     "output_type": "execute_result"
    }
   ],
   "source": [
    "# Significa rodar o groupby baseado em uma chave\n",
    "\n",
    "myRDD = sc.parallelize([('a',1),('a',2),('a',3),('b',1),])\n",
    "# print result as list\n",
    "resultList = myRDD.groupByKey().mapValues(list)\n",
    "resultList.collect()\n"
   ]
  },
  {
   "cell_type": "markdown",
   "metadata": {},
   "source": [
    "## reduceByKey()\n",
    "\n",
    "É um tipo de execução que utilizamos para reduzir os dados.  \n",
    "\n",
    "Resumindo:\n",
    "reduceByKey() é uma função poderosa para agregar valores em um RDD baseado em suas chaves. Ela faz isso de forma eficiente e distribuída, ideal para grandes conjuntos de dados onde você precisa agrupar e combinar informações associadas a cada chave."
   ]
  },
  {
   "cell_type": "code",
   "execution_count": 13,
   "metadata": {},
   "outputs": [
    {
     "data": {
      "text/plain": [
       "[('a', 6), ('b', 1)]"
      ]
     },
     "execution_count": 13,
     "metadata": {},
     "output_type": "execute_result"
    }
   ],
   "source": [
    "from operator import add\n",
    "myRDD = sc.parallelize([('a',1),('a',2),('a',3),('b',1),])\n",
    "# add the values by keys\n",
    "newRDD = myRDD.reduceByKey(add)\n",
    "newRDD.collect()\n",
    "\n",
    "#  Essa função agrupa os dados e já traz os valores somados / Adiciona 'add' os valores\n"
   ]
  },
  {
   "cell_type": "markdown",
   "metadata": {},
   "source": [
    "## SortByKey()\n",
    "\n",
    "Essa função no SQL é conhecida como o 'OrderBy'"
   ]
  },
  {
   "cell_type": "code",
   "execution_count": 14,
   "metadata": {},
   "outputs": [
    {
     "data": {
      "text/plain": [
       "[('a', 3), ('b', 4), ('c', 1), ('d', 2)]"
      ]
     },
     "execution_count": 14,
     "metadata": {},
     "output_type": "execute_result"
    }
   ],
   "source": [
    "myRDD = sc.parallelize([('c',1),('d',2),('a',3),('b',4),])\n",
    "# sort by key\n",
    "newRDD = myRDD.sortByKey()\n",
    "newRDD.collect()\n"
   ]
  },
  {
   "cell_type": "markdown",
   "metadata": {},
   "source": [
    "## UNION()"
   ]
  },
  {
   "cell_type": "code",
   "execution_count": 15,
   "metadata": {},
   "outputs": [
    {
     "data": {
      "text/plain": [
       "[1, 2, 3, 4, 3, 4, 5, 6, 7]"
      ]
     },
     "execution_count": 15,
     "metadata": {},
     "output_type": "execute_result"
    }
   ],
   "source": [
    "myRDD1 = sc.parallelize([1,2,3,4])\n",
    "myRDD2 = sc.parallelize([3,4,5,6,7])\n",
    "# union of my RDD1 an RDD2\n",
    "newRDD = myRDD1.union(myRDD2)\n",
    "newRDD.collect()\n"
   ]
  },
  {
   "cell_type": "markdown",
   "metadata": {},
   "source": [
    "# Actions\n"
   ]
  },
  {
   "cell_type": "markdown",
   "metadata": {},
   "source": [
    "## count()"
   ]
  },
  {
   "cell_type": "code",
   "execution_count": 16,
   "metadata": {},
   "outputs": [
    {
     "data": {
      "text/plain": [
       "4"
      ]
     },
     "execution_count": 16,
     "metadata": {},
     "output_type": "execute_result"
    }
   ],
   "source": [
    "# Contagem de dados dentro da Base de Dados / *sc = SparkContext --> Ele está declarado na seção de transformação (sc = SparkContext.getOrCreate())\n",
    "\n",
    "# passando os dados para uma lista / poderia ser uma base por exemplo\n",
    "data = ['Scala', 'Python','Java', 'R']\n",
    "# ... e passando para um RDD\n",
    "myRDD = sc.parallelize(data)\n",
    "# ... retornando 4 como output\n",
    "myRDD.count()\n"
   ]
  },
  {
   "cell_type": "code",
   "execution_count": 17,
   "metadata": {},
   "outputs": [
    {
     "data": {
      "text/plain": [
       "7"
      ]
     },
     "execution_count": 17,
     "metadata": {},
     "output_type": "execute_result"
    }
   ],
   "source": [
    "# Exemplo para quando temos valores repetidos / Ela não destingue os repetidos, conta efetivamente a contagem de itens\n",
    "\n",
    "data = ['Scala', 'Python','Java', 'R', 'Scala', 'Scala', 'Java']\n",
    "myRDD = sc.parallelize(data)\n",
    "myRDD.count()\n"
   ]
  },
  {
   "cell_type": "code",
   "execution_count": 20,
   "metadata": {},
   "outputs": [
    {
     "name": "stdout",
     "output_type": "stream",
     "text": [
      "4\n"
     ]
    }
   ],
   "source": [
    "# E seu eu quiser contar os distintos\n",
    "\n",
    "data = ['Scala', 'Python', 'Java', 'R', 'Scala', 'Scala', 'Java']\n",
    "myRDD = sc.parallelize(data)\n",
    "\n",
    "# Obter os elementos distintos\n",
    "distinctRDD = myRDD.distinct()\n",
    "\n",
    "# Contar quantos elementos distintos existem\n",
    "distinctCount = distinctRDD.count()\n",
    "\n",
    "print(distinctCount)\n"
   ]
  },
  {
   "cell_type": "markdown",
   "metadata": {},
   "source": [
    "## reduce()"
   ]
  },
  {
   "cell_type": "code",
   "execution_count": 21,
   "metadata": {},
   "outputs": [
    {
     "data": {
      "text/plain": [
       "120"
      ]
     },
     "execution_count": 21,
     "metadata": {},
     "output_type": "execute_result"
    }
   ],
   "source": [
    "data = [1,2,3,4,5]\n",
    "myRDD = sc.parallelize(data)\n",
    "# return the product of all the elements\n",
    "myRDD.reduce(lambda x, y: x * y)\n",
    "\n",
    "# Aqui vai multiplica um pelo outro dos itens que temos na lista = 1*2*3*4*5 = 120\n"
   ]
  },
  {
   "cell_type": "markdown",
   "metadata": {},
   "source": [
    "## foreach()\n",
    "\n",
    "Basicamente executará a funcão  da lista e a colocará num RDD. \n"
   ]
  },
  {
   "cell_type": "code",
   "execution_count": 23,
   "metadata": {},
   "outputs": [],
   "source": [
    "def fun (x):\n",
    "    print(x)\n",
    "data = ['Scala', 'Python','Java', 'R']\n",
    "myRDD = sc.parallelize(data)\n",
    "# function applied to all the elements\n",
    "myRDD.foreach(fun)\n"
   ]
  },
  {
   "cell_type": "markdown",
   "metadata": {},
   "source": [
    "A função myRDD.foreach(fun) aplica a função fun a cada elemento do RDD myRDD. No exemplo dado:\n",
    "\n",
    "fun(x): imprime cada elemento x do RDD.\n",
    "myRDD.foreach(fun): executa fun para todos os elementos de myRDD, ou seja, imprime 'Scala', 'Python', 'Java' e 'R'.\n",
    "Em resumo, foreach percorre todos os elementos do RDD e aplica a função especificada a cada um deles.\n",
    "\"x\" poder ser uma condição, uma palavra, uma soma, etc..."
   ]
  },
  {
   "cell_type": "markdown",
   "metadata": {},
   "source": [
    "## countByValue()"
   ]
  },
  {
   "cell_type": "code",
   "execution_count": 25,
   "metadata": {},
   "outputs": [
    {
     "data": {
      "text/plain": [
       "dict_items([('Python', 2), ('Java', 2), ('R', 1), ('Scala', 2)])"
      ]
     },
     "execution_count": 25,
     "metadata": {},
     "output_type": "execute_result"
    }
   ],
   "source": [
    "# contagem de valores baseado no conteúdo dele. \n",
    "\n",
    "data = ['Python', 'Java', 'R', 'Scala', 'Scala', 'Java', 'Python']\n",
    "myRDD = sc.parallelize(data)\n",
    "# itens() returns a list with all the dictionary keys and values returned by countByValue()\n",
    "myRDD.countByValue().items()\n"
   ]
  },
  {
   "cell_type": "markdown",
   "metadata": {},
   "source": [
    "## countbyKey()"
   ]
  },
  {
   "cell_type": "code",
   "execution_count": 26,
   "metadata": {},
   "outputs": [
    {
     "data": {
      "text/plain": [
       "dict_items([('a', 2), ('b', 2)])"
      ]
     },
     "execution_count": 26,
     "metadata": {},
     "output_type": "execute_result"
    }
   ],
   "source": [
    "data = [('a',1),('b',1),('b',1),('a',1)]\n",
    "myRDD = sc.parallelize(data)\n",
    "myRDD.countByKey().items()\n",
    "\n",
    "# conta pela chave e não pelo valor / Na prática tem a mesma finalidade mas executa a função de maneira diferente\n"
   ]
  },
  {
   "cell_type": "markdown",
   "metadata": {},
   "source": [
    "## take(n)\n",
    "\n",
    "Tem a mesma função do Top N do SQL, porém não define ordem crescente ou decrescente. Simplesmente pega os primeiros da lista"
   ]
  },
  {
   "cell_type": "code",
   "execution_count": 28,
   "metadata": {},
   "outputs": [
    {
     "data": {
      "text/plain": [
       "[2, 5, 3]"
      ]
     },
     "execution_count": 28,
     "metadata": {},
     "output_type": "execute_result"
    }
   ],
   "source": [
    "# Temos a possibilidade de limitar a quantidade de output / Retorna sempre os primeiros itens da lista, independente da ordem de data, por exemplo.\n",
    "\n",
    "data=[2,5,3,8,4]\n",
    "myRDD = sc.parallelize(data)\n",
    "# retornando os 3 primeiros elementos\n",
    "myRDD.take(3)\n"
   ]
  },
  {
   "cell_type": "markdown",
   "metadata": {},
   "source": [
    "## top(n)"
   ]
  },
  {
   "cell_type": "code",
   "execution_count": 29,
   "metadata": {},
   "outputs": [
    {
     "data": {
      "text/plain": [
       "[8, 5, 4]"
      ]
     },
     "execution_count": 29,
     "metadata": {},
     "output_type": "execute_result"
    }
   ],
   "source": [
    "# Neste caso já há a possibilidade de definir uma ordem / ex: do maior para o menor = OrderBy desc\n",
    "\n",
    "data=[2,5,3,8,4]\n",
    "myRDD = sc.parallelize(data)\n",
    "# retornando os 3 primeiros elementos\n",
    "myRDD.top(3)\n"
   ]
  }
 ],
 "metadata": {
  "kernelspec": {
   "display_name": "Python 3",
   "language": "python",
   "name": "python3"
  },
  "language_info": {
   "codemirror_mode": {
    "name": "ipython",
    "version": 3
   },
   "file_extension": ".py",
   "mimetype": "text/x-python",
   "name": "python",
   "nbconvert_exporter": "python",
   "pygments_lexer": "ipython3",
   "version": "3.11.9"
  }
 },
 "nbformat": 4,
 "nbformat_minor": 2
}
