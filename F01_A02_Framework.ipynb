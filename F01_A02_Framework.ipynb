{
 "cells": [
  {
   "cell_type": "markdown",
   "metadata": {},
   "source": [
    "# Aula 02 - Framework de Big Data\n"
   ]
  },
  {
   "cell_type": "markdown",
   "metadata": {},
   "source": [
    "### Instalando a biblioteca PySpark\n"
   ]
  },
  {
   "cell_type": "code",
   "execution_count": 1,
   "metadata": {},
   "outputs": [],
   "source": [
    "# também foi instalado o findspark / pip install findspark - através de 'New Terminal'\n"
   ]
  },
  {
   "cell_type": "code",
   "execution_count": 2,
   "metadata": {},
   "outputs": [],
   "source": [
    "#Importando o findspark\n",
    " \n",
    "import findspark\n",
    "findspark.init\n",
    "from pyspark.sql import SparkSession\n",
    "spark = SparkSession.builder.master('local[*]').getOrCreate()\n"
   ]
  },
  {
   "cell_type": "code",
   "execution_count": 3,
   "metadata": {},
   "outputs": [
    {
     "name": "stdout",
     "output_type": "stream",
     "text": [
      "+--------------------+\n",
      "|               hello|\n",
      "+--------------------+\n",
      "|Sucesso total, es...|\n",
      "+--------------------+\n",
      "\n"
     ]
    }
   ],
   "source": [
    "#  Testando o uso no SQL no Python!\n",
    "\n",
    "df = spark.sql('''select 'Sucesso total, estamos online' as hello''')\n",
    "df.show()\n"
   ]
  },
  {
   "cell_type": "markdown",
   "metadata": {},
   "source": [
    "### Instalação das Bibliotecas"
   ]
  },
  {
   "cell_type": "code",
   "execution_count": 5,
   "metadata": {},
   "outputs": [],
   "source": [
    "# Fazendo referência do PySpark.sql para algumas funções específicas que existem pra tratamento de dados\n",
    "\n",
    "# Import spark libraries\n",
    "\n",
    "from pyspark.sql import Row, DataFrame\n",
    "from pyspark.sql.types import StringType, StructType, StructField, IntegerType\n",
    "from pyspark.sql.functions import col, expr, lit, substring, concat, concat_ws, when, coalesce\n",
    "from pyspark.sql import functions as F # for more sql functions\n",
    "from functools import reduce\n"
   ]
  },
  {
   "cell_type": "markdown",
   "metadata": {},
   "source": [
    "# Data Manipulation using Spark"
   ]
  },
  {
   "cell_type": "code",
   "execution_count": 6,
   "metadata": {},
   "outputs": [
    {
     "name": "stdout",
     "output_type": "stream",
     "text": [
      "df.count: 561\n",
      "df.col ct:  6\n",
      "df.columns:  ['Bank Name', 'City', 'ST', 'CERT', 'Acquiring Institution', 'Closing Date']\n"
     ]
    }
   ],
   "source": [
    "df = spark.read.csv('Framework_A01_banklist.csv', sep = ',', inferSchema= True, header= True)\n",
    "\n",
    "print('df.count:' , df.count())\n",
    "print('df.col ct: ', len(df.columns))\n",
    "print('df.columns: ', df.columns)\n",
    "\n",
    "# Aqui teremos o resultado da quantidade de linhas, quantidade de colunas e quais são as colunas.\n"
   ]
  },
  {
   "cell_type": "markdown",
   "metadata": {},
   "source": [
    "## Using SQL in PySpark"
   ]
  },
  {
   "cell_type": "code",
   "execution_count": 8,
   "metadata": {},
   "outputs": [
    {
     "name": "stdout",
     "output_type": "stream",
     "text": [
      "+--------+-------------+------------+\n",
      "|BankName|City         |Closing Date|\n",
      "+--------+-------------+------------+\n",
      "|BankName|Barboursville|Closing Date|\n",
      "|BankName|Ericson      |Closing Date|\n",
      "|BankName|Newark       |Closing Date|\n",
      "|BankName|Maumee       |Closing Date|\n",
      "+--------+-------------+------------+\n",
      "only showing top 4 rows\n",
      "\n"
     ]
    }
   ],
   "source": [
    "df.createOrReplaceTempView('banklist')\n",
    "\n",
    "df_check = spark.sql('''select 'BankName', City, 'Closing Date' from banklist''')\n",
    "df_check.show(4, truncate=False)\n"
   ]
  },
  {
   "cell_type": "markdown",
   "metadata": {},
   "source": [
    "## DataFrame Basic Operations"
   ]
  },
  {
   "cell_type": "code",
   "execution_count": 9,
   "metadata": {},
   "outputs": [
    {
     "name": "stdout",
     "output_type": "stream",
     "text": [
      "+-------+--------------------+-------+----+-----------------+---------------------+------------+\n",
      "|summary|           Bank Name|   City|  ST|             CERT|Acquiring Institution|Closing Date|\n",
      "+-------+--------------------+-------+----+-----------------+---------------------+------------+\n",
      "|  count|                 561|    561| 561|              561|                  561|         561|\n",
      "|   mean|                NULL|   NULL|NULL|31685.68449197861|                 NULL|        NULL|\n",
      "| stddev|                NULL|   NULL|NULL|16446.65659309965|                 NULL|        NULL|\n",
      "|    min|1st American Stat...|Acworth|  AL|               91|      1st United Bank|    1-Aug-08|\n",
      "|    max|               ebank|Wyoming|  WY|            58701|  Your Community Bank|    9-Sep-11|\n",
      "+-------+--------------------+-------+----+-----------------+---------------------+------------+\n",
      "\n"
     ]
    }
   ],
   "source": [
    "df.describe().show()\n"
   ]
  },
  {
   "cell_type": "code",
   "execution_count": 12,
   "metadata": {},
   "outputs": [
    {
     "name": "stdout",
     "output_type": "stream",
     "text": [
      "+-------+-------+----+\n",
      "|summary|   City|  ST|\n",
      "+-------+-------+----+\n",
      "|  count|    561| 561|\n",
      "|   mean|   NULL|NULL|\n",
      "| stddev|   NULL|NULL|\n",
      "|    min|Acworth|  AL|\n",
      "|    max|Wyoming|  WY|\n",
      "+-------+-------+----+\n",
      "\n"
     ]
    }
   ],
   "source": [
    "df.describe('City', 'ST').show()\n",
    "\n",
    "# selecionando apenas 2 colunas do DataSet / para saber a estatística (describe)\n"
   ]
  },
  {
   "cell_type": "markdown",
   "metadata": {},
   "source": [
    "## Count, Columns and Schema"
   ]
  },
  {
   "cell_type": "code",
   "execution_count": 17,
   "metadata": {},
   "outputs": [
    {
     "name": "stdout",
     "output_type": "stream",
     "text": [
      "Total de Linhas: 561\n",
      "Total de Colunas:  6\n",
      "Colunas : ['Bank Name', 'City', 'ST', 'CERT', 'Acquiring Institution', 'Closing Date']\n",
      "Tipo de Dados : [('Bank Name', 'string'), ('City', 'string'), ('ST', 'string'), ('CERT', 'int'), ('Acquiring Institution', 'string'), ('Closing Date', 'string')]\n",
      "Schema :  StructType([StructField('Bank Name', StringType(), True), StructField('City', StringType(), True), StructField('ST', StringType(), True), StructField('CERT', IntegerType(), True), StructField('Acquiring Institution', StringType(), True), StructField('Closing Date', StringType(), True)])\n"
     ]
    }
   ],
   "source": [
    "print('Total de Linhas:' , df.count())\n",
    "print('Total de Colunas: ', len(df.columns))\n",
    "print('Colunas :', df.columns)\n",
    "print('Tipo de Dados :', df.dtypes)\n",
    "print('Schema : ', df.schema)\n"
   ]
  },
  {
   "cell_type": "code",
   "execution_count": 18,
   "metadata": {},
   "outputs": [
    {
     "name": "stdout",
     "output_type": "stream",
     "text": [
      "root\n",
      " |-- Bank Name: string (nullable = true)\n",
      " |-- City: string (nullable = true)\n",
      " |-- ST: string (nullable = true)\n",
      " |-- CERT: integer (nullable = true)\n",
      " |-- Acquiring Institution: string (nullable = true)\n",
      " |-- Closing Date: string (nullable = true)\n",
      "\n"
     ]
    }
   ],
   "source": [
    "df.printSchema()\n"
   ]
  },
  {
   "cell_type": "markdown",
   "metadata": {},
   "source": [
    "## Remove Duplicates"
   ]
  },
  {
   "cell_type": "code",
   "execution_count": 19,
   "metadata": {},
   "outputs": [
    {
     "name": "stdout",
     "output_type": "stream",
     "text": [
      "df.count : 561\n",
      "df.columns : ['Bank Name', 'City', 'ST', 'CERT', 'Acquiring Institution', 'Closing Date']\n"
     ]
    }
   ],
   "source": [
    "df = df.dropDuplicates()\n",
    "print('df.count :', df.count())\n",
    "print('df.columns :', df.columns)\n"
   ]
  },
  {
   "cell_type": "markdown",
   "metadata": {},
   "source": [
    "Após resultado acima, conseguimos saber que o df não possui linhas duplicadas, pois no início da explaração dos dados verificamos que o df possui 561 linhas."
   ]
  },
  {
   "cell_type": "markdown",
   "metadata": {},
   "source": [
    "## Select Specific Columns"
   ]
  },
  {
   "cell_type": "code",
   "execution_count": 21,
   "metadata": {},
   "outputs": [
    {
     "name": "stdout",
     "output_type": "stream",
     "text": [
      "+--------------------+----------------+\n",
      "|           Bank Name|            City|\n",
      "+--------------------+----------------+\n",
      "| First Bank of Idaho|         Ketchum|\n",
      "|Amcore Bank, Nati...|        Rockford|\n",
      "|        Venture Bank|           Lacey|\n",
      "|First State Bank ...|           Altus|\n",
      "|Valley Capital Ba...|            Mesa|\n",
      "|Michigan Heritage...|Farmington Hills|\n",
      "|Columbia Savings ...|      Cincinnati|\n",
      "|       Fidelity Bank|        Dearborn|\n",
      "|The Park Avenue Bank|        Valdosta|\n",
      "|Western Commercia...|  Woodland Hills|\n",
      "|        Syringa Bank|           Boise|\n",
      "|Republic Federal ...|           Miami|\n",
      "|Westside Communit...|University Place|\n",
      "|   First United Bank|           Crete|\n",
      "|HarVest Bank of M...|    Gaithersburg|\n",
      "|            BankEast|       Knoxville|\n",
      "|    Polk County Bank|        Johnston|\n",
      "|Colorado Capital ...|     Castle Rock|\n",
      "|         Access Bank|        Champlin|\n",
      "|Pacific National ...|   San Francisco|\n",
      "+--------------------+----------------+\n",
      "only showing top 20 rows\n",
      "\n"
     ]
    }
   ],
   "source": [
    "df2 = df.select(*['Bank Name', 'City'])\n",
    "df2.show()\n"
   ]
  },
  {
   "cell_type": "markdown",
   "metadata": {},
   "source": [
    "## Select Multiple Columns"
   ]
  },
  {
   "cell_type": "markdown",
   "metadata": {},
   "source": [
    "Selecionando todas as colunas, exceto a 'CERT' e 'ST'"
   ]
  },
  {
   "cell_type": "code",
   "execution_count": 22,
   "metadata": {},
   "outputs": [
    {
     "name": "stdout",
     "output_type": "stream",
     "text": [
      "+---------------------+--------+--------------------+------------+\n",
      "|Acquiring Institution|    City|           Bank Name|Closing Date|\n",
      "+---------------------+--------+--------------------+------------+\n",
      "|      U.S. Bank, N.A.| Ketchum| First Bank of Idaho|   24-Apr-09|\n",
      "|          Harris N.A.|Rockford|Amcore Bank, Nati...|   23-Apr-10|\n",
      "| First-Citizens Ba...|   Lacey|        Venture Bank|   11-Sep-09|\n",
      "|         Herring Bank|   Altus|First State Bank ...|   31-Jul-09|\n",
      "| Enterprise Bank &...|    Mesa|Valley Capital Ba...|   11-Dec-09|\n",
      "+---------------------+--------+--------------------+------------+\n",
      "only showing top 5 rows\n",
      "\n"
     ]
    }
   ],
   "source": [
    "col_1 = list(set(df.columns) - {'CERT', 'ST'})\n",
    "df2 = df.select(*col_1)\n",
    "df2.show(5)\n"
   ]
  },
  {
   "cell_type": "markdown",
   "metadata": {},
   "source": [
    "## Rename Columns"
   ]
  },
  {
   "cell_type": "code",
   "execution_count": 24,
   "metadata": {},
   "outputs": [
    {
     "name": "stdout",
     "output_type": "stream",
     "text": [
      "+--------------------+--------+-----+-----+--------------------+------------+\n",
      "|           bank_name|    city|state| cert|     acq_institution|closing_date|\n",
      "+--------------------+--------+-----+-----+--------------------+------------+\n",
      "| First Bank of Idaho| Ketchum|   ID|34396|     U.S. Bank, N.A.|   24-Apr-09|\n",
      "|Amcore Bank, Nati...|Rockford|   IL| 3735|         Harris N.A.|   23-Apr-10|\n",
      "|        Venture Bank|   Lacey|   WA|22868|First-Citizens Ba...|   11-Sep-09|\n",
      "|First State Bank ...|   Altus|   OK| 9873|        Herring Bank|   31-Jul-09|\n",
      "|Valley Capital Ba...|    Mesa|   AZ|58399|Enterprise Bank &...|   11-Dec-09|\n",
      "+--------------------+--------+-----+-----+--------------------+------------+\n",
      "only showing top 5 rows\n",
      "\n"
     ]
    }
   ],
   "source": [
    "df2 = df \\\n",
    "    .withColumnRenamed('Bank Name', 'bank_name')\\\n",
    "    .withColumnRenamed('City', 'city')\\\n",
    "    .withColumnRenamed('Acquiring Institution', 'acq_institution')\\\n",
    "    .withColumnRenamed('Closing Date', 'closing_date')\\\n",
    "    .withColumnRenamed('ST', 'state')\\\n",
    "    .withColumnRenamed('CERT','cert') #\\\n",
    "\n",
    "df2.show(5)\n"
   ]
  },
  {
   "cell_type": "code",
   "execution_count": null,
   "metadata": {},
   "outputs": [],
   "source": []
  }
 ],
 "metadata": {
  "kernelspec": {
   "display_name": "Python 3",
   "language": "python",
   "name": "python3"
  },
  "language_info": {
   "codemirror_mode": {
    "name": "ipython",
    "version": 3
   },
   "file_extension": ".py",
   "mimetype": "text/x-python",
   "name": "python",
   "nbconvert_exporter": "python",
   "pygments_lexer": "ipython3",
   "version": "3.11.9"
  }
 },
 "nbformat": 4,
 "nbformat_minor": 2
}
